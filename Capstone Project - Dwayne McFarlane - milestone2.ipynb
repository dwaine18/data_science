{
 "cells": [
  {
   "cell_type": "markdown",
   "metadata": {},
   "source": [
    "## Context\n",
    "Many popular comforts of modern day society rely upon complex algorithms that are designed to increase user enagement and interaction with a system. These systems are called recommendation systems. Building recommendation systems is a huge part of the daily work of data scientists at data centric firms such as Amazon, Netflix, Spotify, Microsoft, and Google. However, today, almost any company can benefit from building in-house recommendation systems that aim at increasing user engagement.\n",
    "\n",
    "## Problem Statement\n",
    "\n",
    "Build a recommendation system to propose the top 10 songs for a user based on the likelihood of\n",
    "listening to those songs.\n",
    "\n",
    "## Dataset Used\n",
    "Million Song Dataset divided into two files which includes the following:\n",
    "\n",
    "The core data is the Taste Profile Subset released by The Echo Nest as part of the Million Song\n",
    "Dataset. There are two files in this dataset. One contains the details about the song id, titles, release,\n",
    "artist name and the year of release. Second file contains the user id, song id and the play count of\n",
    "users.\n",
    "File - song_data\n",
    "1. song_id - A unique id given to every song\n",
    "2. title - Title of the song\n",
    "3. Release - Name of the released album\n",
    "4. Artist_name - Name of the artist\n",
    "5. year - Year of release\n",
    "file - count_data\n",
    "1. user _id - A unique id given to the user\n",
    "2. song_id - A unique id given to the song\n",
    "\n",
    "## Objective\n",
    "Utilize various libraries such as Surprise, TensorFLow, Keras, Scikit-Learn, to build various recommendation systems to see which system provides the best end result. We will utilize data science methods of Collaborative filtering and content-based methods to build a recommendation system that is suitable for various users. In doing so, we hope to have several business benefits that would increase user interaction, user engagement and potential revenue increase. "
   ]
  },
  {
   "cell_type": "markdown",
   "metadata": {},
   "source": [
    "# Algorithms\n",
    "One of the issues that exists in this dataset is the fact that we do not have explicit ratings data to utlize in our recommendations. WHat we do have is number of times a song is played. While this is great for popularity based recommendation systems, this poses some hurdles for the more user-centric collaborative filtering methods. We will have to transform the data in a way that would make it applicable to the Nearest neighbor and Single Value Decomposition factorized matrix. "
   ]
  },
  {
   "cell_type": "markdown",
   "metadata": {},
   "source": [
    "## Handling Cold Starts\n",
    "When the system has no information in terms of previous plays, a short user interview can help the system populate with songs from that user's specified genre, whereafter we can suggest songs with the highest play counts from other users - popularity - until the user has provided sufficient information and interactions to the system to be provided with more user-centric recommendations. "
   ]
  },
  {
   "cell_type": "markdown",
   "metadata": {},
   "source": [
    "## Metric to be used\n",
    "Because we want to predict which songs a particular user would want to listen to, we will utilize the Root Mean Square Error(RSME)\n",
    "<img src=\"rsme.jpg\">"
   ]
  },
  {
   "cell_type": "code",
   "execution_count": null,
   "metadata": {},
   "outputs": [],
   "source": [
    "\n",
    "\n",
    "pip install surprise"
   ]
  },
  {
   "cell_type": "code",
   "execution_count": 3,
   "metadata": {},
   "outputs": [],
   "source": [
    "# import libraries\n",
    "import numpy as np\n",
    "import pandas as pd\n",
    "import matplotlib.pyplot as plt\n",
    "import surprise\n",
    "from surprise import Reader, Dataset, SVD\n",
    "\n",
    "from surprise.accuracy import rmse, mae\n",
    "from surprise.model_selection import cross_validate\n"
   ]
  },
  {
   "cell_type": "code",
   "execution_count": 4,
   "metadata": {},
   "outputs": [],
   "source": [
    "# import files\n",
    "song_data = pd.read_csv('song_data.csv')\n",
    "count_data = pd.read_csv('count_data.csv')"
   ]
  },
  {
   "cell_type": "code",
   "execution_count": 5,
   "metadata": {},
   "outputs": [
    {
     "data": {
      "text/html": [
       "<div>\n",
       "<style scoped>\n",
       "    .dataframe tbody tr th:only-of-type {\n",
       "        vertical-align: middle;\n",
       "    }\n",
       "\n",
       "    .dataframe tbody tr th {\n",
       "        vertical-align: top;\n",
       "    }\n",
       "\n",
       "    .dataframe thead th {\n",
       "        text-align: right;\n",
       "    }\n",
       "</style>\n",
       "<table border=\"1\" class=\"dataframe\">\n",
       "  <thead>\n",
       "    <tr style=\"text-align: right;\">\n",
       "      <th></th>\n",
       "      <th>song_id</th>\n",
       "      <th>title</th>\n",
       "      <th>release</th>\n",
       "      <th>artist_name</th>\n",
       "      <th>year</th>\n",
       "    </tr>\n",
       "  </thead>\n",
       "  <tbody>\n",
       "    <tr>\n",
       "      <th>0</th>\n",
       "      <td>SOQMMHC12AB0180CB8</td>\n",
       "      <td>Silent Night</td>\n",
       "      <td>Monster Ballads X-Mas</td>\n",
       "      <td>Faster Pussy cat</td>\n",
       "      <td>2003</td>\n",
       "    </tr>\n",
       "    <tr>\n",
       "      <th>1</th>\n",
       "      <td>SOVFVAK12A8C1350D9</td>\n",
       "      <td>Tanssi vaan</td>\n",
       "      <td>Karkuteillä</td>\n",
       "      <td>Karkkiautomaatti</td>\n",
       "      <td>1995</td>\n",
       "    </tr>\n",
       "    <tr>\n",
       "      <th>2</th>\n",
       "      <td>SOGTUKN12AB017F4F1</td>\n",
       "      <td>No One Could Ever</td>\n",
       "      <td>Butter</td>\n",
       "      <td>Hudson Mohawke</td>\n",
       "      <td>2006</td>\n",
       "    </tr>\n",
       "    <tr>\n",
       "      <th>3</th>\n",
       "      <td>SOBNYVR12A8C13558C</td>\n",
       "      <td>Si Vos Querés</td>\n",
       "      <td>De Culo</td>\n",
       "      <td>Yerba Brava</td>\n",
       "      <td>2003</td>\n",
       "    </tr>\n",
       "    <tr>\n",
       "      <th>4</th>\n",
       "      <td>SOHSBXH12A8C13B0DF</td>\n",
       "      <td>Tangle Of Aspens</td>\n",
       "      <td>Rene Ablaze Presents Winter Sessions</td>\n",
       "      <td>Der Mystic</td>\n",
       "      <td>0</td>\n",
       "    </tr>\n",
       "  </tbody>\n",
       "</table>\n",
       "</div>"
      ],
      "text/plain": [
       "              song_id              title  \\\n",
       "0  SOQMMHC12AB0180CB8       Silent Night   \n",
       "1  SOVFVAK12A8C1350D9        Tanssi vaan   \n",
       "2  SOGTUKN12AB017F4F1  No One Could Ever   \n",
       "3  SOBNYVR12A8C13558C      Si Vos Querés   \n",
       "4  SOHSBXH12A8C13B0DF   Tangle Of Aspens   \n",
       "\n",
       "                                release       artist_name  year  \n",
       "0                 Monster Ballads X-Mas  Faster Pussy cat  2003  \n",
       "1                           Karkuteillä  Karkkiautomaatti  1995  \n",
       "2                                Butter    Hudson Mohawke  2006  \n",
       "3                               De Culo       Yerba Brava  2003  \n",
       "4  Rene Ablaze Presents Winter Sessions        Der Mystic     0  "
      ]
     },
     "execution_count": 5,
     "metadata": {},
     "output_type": "execute_result"
    }
   ],
   "source": [
    "song_data.head()"
   ]
  },
  {
   "cell_type": "code",
   "execution_count": 6,
   "metadata": {},
   "outputs": [
    {
     "data": {
      "text/html": [
       "<div>\n",
       "<style scoped>\n",
       "    .dataframe tbody tr th:only-of-type {\n",
       "        vertical-align: middle;\n",
       "    }\n",
       "\n",
       "    .dataframe tbody tr th {\n",
       "        vertical-align: top;\n",
       "    }\n",
       "\n",
       "    .dataframe thead th {\n",
       "        text-align: right;\n",
       "    }\n",
       "</style>\n",
       "<table border=\"1\" class=\"dataframe\">\n",
       "  <thead>\n",
       "    <tr style=\"text-align: right;\">\n",
       "      <th></th>\n",
       "      <th>Unnamed: 0</th>\n",
       "      <th>user_id</th>\n",
       "      <th>song_id</th>\n",
       "      <th>play_count</th>\n",
       "    </tr>\n",
       "  </thead>\n",
       "  <tbody>\n",
       "    <tr>\n",
       "      <th>0</th>\n",
       "      <td>0</td>\n",
       "      <td>b80344d063b5ccb3212f76538f3d9e43d87dca9e</td>\n",
       "      <td>SOAKIMP12A8C130995</td>\n",
       "      <td>1</td>\n",
       "    </tr>\n",
       "    <tr>\n",
       "      <th>1</th>\n",
       "      <td>1</td>\n",
       "      <td>b80344d063b5ccb3212f76538f3d9e43d87dca9e</td>\n",
       "      <td>SOBBMDR12A8C13253B</td>\n",
       "      <td>2</td>\n",
       "    </tr>\n",
       "    <tr>\n",
       "      <th>2</th>\n",
       "      <td>2</td>\n",
       "      <td>b80344d063b5ccb3212f76538f3d9e43d87dca9e</td>\n",
       "      <td>SOBXHDL12A81C204C0</td>\n",
       "      <td>1</td>\n",
       "    </tr>\n",
       "    <tr>\n",
       "      <th>3</th>\n",
       "      <td>3</td>\n",
       "      <td>b80344d063b5ccb3212f76538f3d9e43d87dca9e</td>\n",
       "      <td>SOBYHAJ12A6701BF1D</td>\n",
       "      <td>1</td>\n",
       "    </tr>\n",
       "    <tr>\n",
       "      <th>4</th>\n",
       "      <td>4</td>\n",
       "      <td>b80344d063b5ccb3212f76538f3d9e43d87dca9e</td>\n",
       "      <td>SODACBL12A8C13C273</td>\n",
       "      <td>1</td>\n",
       "    </tr>\n",
       "  </tbody>\n",
       "</table>\n",
       "</div>"
      ],
      "text/plain": [
       "   Unnamed: 0                                   user_id             song_id  \\\n",
       "0           0  b80344d063b5ccb3212f76538f3d9e43d87dca9e  SOAKIMP12A8C130995   \n",
       "1           1  b80344d063b5ccb3212f76538f3d9e43d87dca9e  SOBBMDR12A8C13253B   \n",
       "2           2  b80344d063b5ccb3212f76538f3d9e43d87dca9e  SOBXHDL12A81C204C0   \n",
       "3           3  b80344d063b5ccb3212f76538f3d9e43d87dca9e  SOBYHAJ12A6701BF1D   \n",
       "4           4  b80344d063b5ccb3212f76538f3d9e43d87dca9e  SODACBL12A8C13C273   \n",
       "\n",
       "   play_count  \n",
       "0           1  \n",
       "1           2  \n",
       "2           1  \n",
       "3           1  \n",
       "4           1  "
      ]
     },
     "execution_count": 6,
     "metadata": {},
     "output_type": "execute_result"
    }
   ],
   "source": [
    "count_data.head()"
   ]
  },
  {
   "cell_type": "code",
   "execution_count": 7,
   "metadata": {},
   "outputs": [],
   "source": [
    "df = pd.merge(song_data, count_data, on= 'song_id')"
   ]
  },
  {
   "cell_type": "code",
   "execution_count": 8,
   "metadata": {},
   "outputs": [
    {
     "data": {
      "text/html": [
       "<div>\n",
       "<style scoped>\n",
       "    .dataframe tbody tr th:only-of-type {\n",
       "        vertical-align: middle;\n",
       "    }\n",
       "\n",
       "    .dataframe tbody tr th {\n",
       "        vertical-align: top;\n",
       "    }\n",
       "\n",
       "    .dataframe thead th {\n",
       "        text-align: right;\n",
       "    }\n",
       "</style>\n",
       "<table border=\"1\" class=\"dataframe\">\n",
       "  <thead>\n",
       "    <tr style=\"text-align: right;\">\n",
       "      <th></th>\n",
       "      <th>song_id</th>\n",
       "      <th>title</th>\n",
       "      <th>release</th>\n",
       "      <th>artist_name</th>\n",
       "      <th>year</th>\n",
       "      <th>Unnamed: 0</th>\n",
       "      <th>user_id</th>\n",
       "      <th>play_count</th>\n",
       "    </tr>\n",
       "  </thead>\n",
       "  <tbody>\n",
       "    <tr>\n",
       "      <th>0</th>\n",
       "      <td>SOSZNRJ12A8AE46E38</td>\n",
       "      <td>Anyone Else But You</td>\n",
       "      <td>Juno - Music From The Motion Picture</td>\n",
       "      <td>Michael Cera &amp; Ellen Page</td>\n",
       "      <td>2007</td>\n",
       "      <td>334</td>\n",
       "      <td>d6589314c0a9bcbca4fee0c93b14bc402363afea</td>\n",
       "      <td>6</td>\n",
       "    </tr>\n",
       "    <tr>\n",
       "      <th>1</th>\n",
       "      <td>SOSZNRJ12A8AE46E38</td>\n",
       "      <td>Anyone Else But You</td>\n",
       "      <td>Juno - Music From The Motion Picture</td>\n",
       "      <td>Michael Cera &amp; Ellen Page</td>\n",
       "      <td>2007</td>\n",
       "      <td>1537</td>\n",
       "      <td>484b69dd013df1ec0cfd504886d4f647cb32b08f</td>\n",
       "      <td>1</td>\n",
       "    </tr>\n",
       "    <tr>\n",
       "      <th>2</th>\n",
       "      <td>SOSZNRJ12A8AE46E38</td>\n",
       "      <td>Anyone Else But You</td>\n",
       "      <td>Juno - Music From The Motion Picture</td>\n",
       "      <td>Michael Cera &amp; Ellen Page</td>\n",
       "      <td>2007</td>\n",
       "      <td>2206</td>\n",
       "      <td>3f9ed694a79835c921ef6d94acd28f876c1d901e</td>\n",
       "      <td>4</td>\n",
       "    </tr>\n",
       "    <tr>\n",
       "      <th>3</th>\n",
       "      <td>SOSZNRJ12A8AE46E38</td>\n",
       "      <td>Anyone Else But You</td>\n",
       "      <td>Juno - Music From The Motion Picture</td>\n",
       "      <td>Michael Cera &amp; Ellen Page</td>\n",
       "      <td>2007</td>\n",
       "      <td>23688</td>\n",
       "      <td>b882a5b0dbd1a80533e40745be976f19d1fad5b0</td>\n",
       "      <td>1</td>\n",
       "    </tr>\n",
       "    <tr>\n",
       "      <th>4</th>\n",
       "      <td>SOSZNRJ12A8AE46E38</td>\n",
       "      <td>Anyone Else But You</td>\n",
       "      <td>Juno - Music From The Motion Picture</td>\n",
       "      <td>Michael Cera &amp; Ellen Page</td>\n",
       "      <td>2007</td>\n",
       "      <td>28969</td>\n",
       "      <td>2bcef2a30bd8913405971761a0e6c292d771c086</td>\n",
       "      <td>1</td>\n",
       "    </tr>\n",
       "  </tbody>\n",
       "</table>\n",
       "</div>"
      ],
      "text/plain": [
       "              song_id                title  \\\n",
       "0  SOSZNRJ12A8AE46E38  Anyone Else But You   \n",
       "1  SOSZNRJ12A8AE46E38  Anyone Else But You   \n",
       "2  SOSZNRJ12A8AE46E38  Anyone Else But You   \n",
       "3  SOSZNRJ12A8AE46E38  Anyone Else But You   \n",
       "4  SOSZNRJ12A8AE46E38  Anyone Else But You   \n",
       "\n",
       "                                release                artist_name  year  \\\n",
       "0  Juno - Music From The Motion Picture  Michael Cera & Ellen Page  2007   \n",
       "1  Juno - Music From The Motion Picture  Michael Cera & Ellen Page  2007   \n",
       "2  Juno - Music From The Motion Picture  Michael Cera & Ellen Page  2007   \n",
       "3  Juno - Music From The Motion Picture  Michael Cera & Ellen Page  2007   \n",
       "4  Juno - Music From The Motion Picture  Michael Cera & Ellen Page  2007   \n",
       "\n",
       "   Unnamed: 0                                   user_id  play_count  \n",
       "0         334  d6589314c0a9bcbca4fee0c93b14bc402363afea           6  \n",
       "1        1537  484b69dd013df1ec0cfd504886d4f647cb32b08f           1  \n",
       "2        2206  3f9ed694a79835c921ef6d94acd28f876c1d901e           4  \n",
       "3       23688  b882a5b0dbd1a80533e40745be976f19d1fad5b0           1  \n",
       "4       28969  2bcef2a30bd8913405971761a0e6c292d771c086           1  "
      ]
     },
     "execution_count": 8,
     "metadata": {},
     "output_type": "execute_result"
    }
   ],
   "source": [
    "df.head()"
   ]
  },
  {
   "cell_type": "code",
   "execution_count": 9,
   "metadata": {},
   "outputs": [
    {
     "data": {
      "text/plain": [
       "array(['song_id', 'title', 'release', 'artist_name', 'year', 'Unnamed: 0',\n",
       "       'user_id', 'play_count'], dtype=object)"
      ]
     },
     "execution_count": 9,
     "metadata": {},
     "output_type": "execute_result"
    }
   ],
   "source": [
    "df.columns.values"
   ]
  },
  {
   "cell_type": "code",
   "execution_count": 102,
   "metadata": {},
   "outputs": [
    {
     "name": "stdout",
     "output_type": "stream",
     "text": [
      "<class 'pandas.core.frame.DataFrame'>\n",
      "Int64Index: 2086946 entries, 0 to 2086945\n",
      "Data columns (total 8 columns):\n",
      " #   Column       Dtype \n",
      "---  ------       ----- \n",
      " 0   song_id      object\n",
      " 1   title        object\n",
      " 2   release      object\n",
      " 3   artist_name  object\n",
      " 4   year         int64 \n",
      " 5   Unnamed: 0   int64 \n",
      " 6   user_id      object\n",
      " 7   play_count   int64 \n",
      "dtypes: int64(3), object(5)\n",
      "memory usage: 143.3+ MB\n"
     ]
    }
   ],
   "source": [
    "df.info()"
   ]
  },
  {
   "cell_type": "code",
   "execution_count": 120,
   "metadata": {},
   "outputs": [
    {
     "data": {
      "text/plain": [
       "(421170, 7)"
      ]
     },
     "execution_count": 120,
     "metadata": {},
     "output_type": "execute_result"
    }
   ],
   "source": [
    "df.shape"
   ]
  },
  {
   "cell_type": "code",
   "execution_count": 103,
   "metadata": {},
   "outputs": [],
   "source": [
    "df.drop('Unnamed: 0', axis=1, inplace=True)"
   ]
  },
  {
   "cell_type": "code",
   "execution_count": 104,
   "metadata": {},
   "outputs": [
    {
     "name": "stdout",
     "output_type": "stream",
     "text": [
      "<class 'pandas.core.frame.DataFrame'>\n",
      "Int64Index: 2086946 entries, 0 to 2086945\n",
      "Data columns (total 7 columns):\n",
      " #   Column       Dtype \n",
      "---  ------       ----- \n",
      " 0   song_id      object\n",
      " 1   title        object\n",
      " 2   release      object\n",
      " 3   artist_name  object\n",
      " 4   year         int64 \n",
      " 5   user_id      object\n",
      " 6   play_count   int64 \n",
      "dtypes: int64(2), object(5)\n",
      "memory usage: 127.4+ MB\n"
     ]
    }
   ],
   "source": [
    "df.info()"
   ]
  },
  {
   "cell_type": "code",
   "execution_count": 105,
   "metadata": {},
   "outputs": [
    {
     "data": {
      "text/html": [
       "<div>\n",
       "<style scoped>\n",
       "    .dataframe tbody tr th:only-of-type {\n",
       "        vertical-align: middle;\n",
       "    }\n",
       "\n",
       "    .dataframe tbody tr th {\n",
       "        vertical-align: top;\n",
       "    }\n",
       "\n",
       "    .dataframe thead th {\n",
       "        text-align: right;\n",
       "    }\n",
       "</style>\n",
       "<table border=\"1\" class=\"dataframe\">\n",
       "  <thead>\n",
       "    <tr style=\"text-align: right;\">\n",
       "      <th></th>\n",
       "      <th>song_id</th>\n",
       "      <th>title</th>\n",
       "      <th>release</th>\n",
       "      <th>artist_name</th>\n",
       "      <th>year</th>\n",
       "      <th>user_id</th>\n",
       "      <th>play_count</th>\n",
       "    </tr>\n",
       "  </thead>\n",
       "  <tbody>\n",
       "    <tr>\n",
       "      <th>0</th>\n",
       "      <td>SOSZNRJ12A8AE46E38</td>\n",
       "      <td>Anyone Else But You</td>\n",
       "      <td>Juno - Music From The Motion Picture</td>\n",
       "      <td>Michael Cera &amp; Ellen Page</td>\n",
       "      <td>2007</td>\n",
       "      <td>d6589314c0a9bcbca4fee0c93b14bc402363afea</td>\n",
       "      <td>6</td>\n",
       "    </tr>\n",
       "    <tr>\n",
       "      <th>1</th>\n",
       "      <td>SOSZNRJ12A8AE46E38</td>\n",
       "      <td>Anyone Else But You</td>\n",
       "      <td>Juno - Music From The Motion Picture</td>\n",
       "      <td>Michael Cera &amp; Ellen Page</td>\n",
       "      <td>2007</td>\n",
       "      <td>484b69dd013df1ec0cfd504886d4f647cb32b08f</td>\n",
       "      <td>1</td>\n",
       "    </tr>\n",
       "    <tr>\n",
       "      <th>2</th>\n",
       "      <td>SOSZNRJ12A8AE46E38</td>\n",
       "      <td>Anyone Else But You</td>\n",
       "      <td>Juno - Music From The Motion Picture</td>\n",
       "      <td>Michael Cera &amp; Ellen Page</td>\n",
       "      <td>2007</td>\n",
       "      <td>3f9ed694a79835c921ef6d94acd28f876c1d901e</td>\n",
       "      <td>4</td>\n",
       "    </tr>\n",
       "    <tr>\n",
       "      <th>3</th>\n",
       "      <td>SOSZNRJ12A8AE46E38</td>\n",
       "      <td>Anyone Else But You</td>\n",
       "      <td>Juno - Music From The Motion Picture</td>\n",
       "      <td>Michael Cera &amp; Ellen Page</td>\n",
       "      <td>2007</td>\n",
       "      <td>b882a5b0dbd1a80533e40745be976f19d1fad5b0</td>\n",
       "      <td>1</td>\n",
       "    </tr>\n",
       "    <tr>\n",
       "      <th>4</th>\n",
       "      <td>SOSZNRJ12A8AE46E38</td>\n",
       "      <td>Anyone Else But You</td>\n",
       "      <td>Juno - Music From The Motion Picture</td>\n",
       "      <td>Michael Cera &amp; Ellen Page</td>\n",
       "      <td>2007</td>\n",
       "      <td>2bcef2a30bd8913405971761a0e6c292d771c086</td>\n",
       "      <td>1</td>\n",
       "    </tr>\n",
       "    <tr>\n",
       "      <th>...</th>\n",
       "      <td>...</td>\n",
       "      <td>...</td>\n",
       "      <td>...</td>\n",
       "      <td>...</td>\n",
       "      <td>...</td>\n",
       "      <td>...</td>\n",
       "      <td>...</td>\n",
       "    </tr>\n",
       "    <tr>\n",
       "      <th>2086941</th>\n",
       "      <td>SOBPQCK12AF72A2FD5</td>\n",
       "      <td>The Outer Banks</td>\n",
       "      <td>In A Safe Place</td>\n",
       "      <td>The Album Leaf</td>\n",
       "      <td>2004</td>\n",
       "      <td>37781fff15682ccd92aface63f66d3f525e2f88f</td>\n",
       "      <td>1</td>\n",
       "    </tr>\n",
       "    <tr>\n",
       "      <th>2086942</th>\n",
       "      <td>SOBPQCK12AF72A2FD5</td>\n",
       "      <td>The Outer Banks</td>\n",
       "      <td>In A Safe Place</td>\n",
       "      <td>The Album Leaf</td>\n",
       "      <td>2004</td>\n",
       "      <td>49e66adb87d5d39781add88c202aa9802010e848</td>\n",
       "      <td>3</td>\n",
       "    </tr>\n",
       "    <tr>\n",
       "      <th>2086943</th>\n",
       "      <td>SOBPQCK12AF72A2FD5</td>\n",
       "      <td>The Outer Banks</td>\n",
       "      <td>In A Safe Place</td>\n",
       "      <td>The Album Leaf</td>\n",
       "      <td>2004</td>\n",
       "      <td>9d659bb73b93384297f240a4adadccf4d81bd681</td>\n",
       "      <td>1</td>\n",
       "    </tr>\n",
       "    <tr>\n",
       "      <th>2086944</th>\n",
       "      <td>SOBPQCK12AF72A2FD5</td>\n",
       "      <td>The Outer Banks</td>\n",
       "      <td>In A Safe Place</td>\n",
       "      <td>The Album Leaf</td>\n",
       "      <td>2004</td>\n",
       "      <td>c65a346ab8f41fb56926b503ece810f358b0d241</td>\n",
       "      <td>1</td>\n",
       "    </tr>\n",
       "    <tr>\n",
       "      <th>2086945</th>\n",
       "      <td>SOBPQCK12AF72A2FD5</td>\n",
       "      <td>The Outer Banks</td>\n",
       "      <td>In A Safe Place</td>\n",
       "      <td>The Album Leaf</td>\n",
       "      <td>2004</td>\n",
       "      <td>84e72d86fab784be544a8e2fe2826c73530165fd</td>\n",
       "      <td>1</td>\n",
       "    </tr>\n",
       "  </tbody>\n",
       "</table>\n",
       "<p>2086946 rows × 7 columns</p>\n",
       "</div>"
      ],
      "text/plain": [
       "                    song_id                title  \\\n",
       "0        SOSZNRJ12A8AE46E38  Anyone Else But You   \n",
       "1        SOSZNRJ12A8AE46E38  Anyone Else But You   \n",
       "2        SOSZNRJ12A8AE46E38  Anyone Else But You   \n",
       "3        SOSZNRJ12A8AE46E38  Anyone Else But You   \n",
       "4        SOSZNRJ12A8AE46E38  Anyone Else But You   \n",
       "...                     ...                  ...   \n",
       "2086941  SOBPQCK12AF72A2FD5      The Outer Banks   \n",
       "2086942  SOBPQCK12AF72A2FD5      The Outer Banks   \n",
       "2086943  SOBPQCK12AF72A2FD5      The Outer Banks   \n",
       "2086944  SOBPQCK12AF72A2FD5      The Outer Banks   \n",
       "2086945  SOBPQCK12AF72A2FD5      The Outer Banks   \n",
       "\n",
       "                                      release                artist_name  \\\n",
       "0        Juno - Music From The Motion Picture  Michael Cera & Ellen Page   \n",
       "1        Juno - Music From The Motion Picture  Michael Cera & Ellen Page   \n",
       "2        Juno - Music From The Motion Picture  Michael Cera & Ellen Page   \n",
       "3        Juno - Music From The Motion Picture  Michael Cera & Ellen Page   \n",
       "4        Juno - Music From The Motion Picture  Michael Cera & Ellen Page   \n",
       "...                                       ...                        ...   \n",
       "2086941                       In A Safe Place             The Album Leaf   \n",
       "2086942                       In A Safe Place             The Album Leaf   \n",
       "2086943                       In A Safe Place             The Album Leaf   \n",
       "2086944                       In A Safe Place             The Album Leaf   \n",
       "2086945                       In A Safe Place             The Album Leaf   \n",
       "\n",
       "         year                                   user_id  play_count  \n",
       "0        2007  d6589314c0a9bcbca4fee0c93b14bc402363afea           6  \n",
       "1        2007  484b69dd013df1ec0cfd504886d4f647cb32b08f           1  \n",
       "2        2007  3f9ed694a79835c921ef6d94acd28f876c1d901e           4  \n",
       "3        2007  b882a5b0dbd1a80533e40745be976f19d1fad5b0           1  \n",
       "4        2007  2bcef2a30bd8913405971761a0e6c292d771c086           1  \n",
       "...       ...                                       ...         ...  \n",
       "2086941  2004  37781fff15682ccd92aface63f66d3f525e2f88f           1  \n",
       "2086942  2004  49e66adb87d5d39781add88c202aa9802010e848           3  \n",
       "2086943  2004  9d659bb73b93384297f240a4adadccf4d81bd681           1  \n",
       "2086944  2004  c65a346ab8f41fb56926b503ece810f358b0d241           1  \n",
       "2086945  2004  84e72d86fab784be544a8e2fe2826c73530165fd           1  \n",
       "\n",
       "[2086946 rows x 7 columns]"
      ]
     },
     "execution_count": 105,
     "metadata": {},
     "output_type": "execute_result"
    }
   ],
   "source": [
    "df"
   ]
  },
  {
   "cell_type": "markdown",
   "metadata": {},
   "source": [
    "## Check for missing data\n"
   ]
  },
  {
   "cell_type": "code",
   "execution_count": 106,
   "metadata": {},
   "outputs": [
    {
     "data": {
      "text/plain": [
       "song_id        0\n",
       "title          0\n",
       "release        0\n",
       "artist_name    0\n",
       "year           0\n",
       "user_id        0\n",
       "play_count     0\n",
       "dtype: int64"
      ]
     },
     "execution_count": 106,
     "metadata": {},
     "output_type": "execute_result"
    }
   ],
   "source": [
    "df.isna().sum()"
   ]
  },
  {
   "cell_type": "markdown",
   "metadata": {},
   "source": [
    "## EDA - Exploratory data analysis"
   ]
  },
  {
   "cell_type": "markdown",
   "metadata": {},
   "source": [
    "## Missing Song Year Data - Titles\n",
    "Some songs are missing the year that the song was released. These values have been replaced with a 0. Furthermore, some of the song titles have weird names, because we are not sure about these items, we will leave them as is in the data."
   ]
  },
  {
   "cell_type": "markdown",
   "metadata": {},
   "source": [
    "### Number of songs and users"
   ]
  },
  {
   "cell_type": "code",
   "execution_count": 107,
   "metadata": {},
   "outputs": [
    {
     "name": "stdout",
     "output_type": "stream",
     "text": [
      "76353\n",
      "10000\n"
     ]
    }
   ],
   "source": [
    "n_users = df.user_id.nunique()\n",
    "n_songs = df.song_id.nunique()\n",
    "print(n_users)\n",
    "print(n_songs)"
   ]
  },
  {
   "cell_type": "code",
   "execution_count": 108,
   "metadata": {},
   "outputs": [
    {
     "data": {
      "text/plain": [
       "295"
      ]
     },
     "execution_count": 108,
     "metadata": {},
     "output_type": "execute_result"
    }
   ],
   "source": [
    "df.play_count.nunique()"
   ]
  },
  {
   "cell_type": "markdown",
   "metadata": {},
   "source": [
    "### Play count distribution"
   ]
  },
  {
   "cell_type": "code",
   "execution_count": 109,
   "metadata": {},
   "outputs": [
    {
     "data": {
      "text/plain": [
       "<matplotlib.axes._subplots.AxesSubplot at 0x24745cf1888>"
      ]
     },
     "execution_count": 109,
     "metadata": {},
     "output_type": "execute_result"
    },
    {
     "data": {
      "image/png": "[encoded data removed]",
      "text/plain": [
       "<Figure size 432x288 with 1 Axes>"
      ]
     },
     "metadata": {
      "needs_background": "light"
     },
     "output_type": "display_data"
    }
   ],
   "source": [
    "df['play_count'].value_counts().sort_values(ascending=False)[:10].plot(kind='bar')"
   ]
  },
  {
   "cell_type": "markdown",
   "metadata": {},
   "source": [
    "## Filter out songs that were only played once or twice"
   ]
  },
  {
   "cell_type": "code",
   "execution_count": 118,
   "metadata": {},
   "outputs": [
    {
     "data": {
      "text/html": [
       "<div>\n",
       "<style scoped>\n",
       "    .dataframe tbody tr th:only-of-type {\n",
       "        vertical-align: middle;\n",
       "    }\n",
       "\n",
       "    .dataframe tbody tr th {\n",
       "        vertical-align: top;\n",
       "    }\n",
       "\n",
       "    .dataframe thead th {\n",
       "        text-align: right;\n",
       "    }\n",
       "</style>\n",
       "<table border=\"1\" class=\"dataframe\">\n",
       "  <thead>\n",
       "    <tr style=\"text-align: right;\">\n",
       "      <th></th>\n",
       "      <th>song_id</th>\n",
       "      <th>title</th>\n",
       "      <th>release</th>\n",
       "      <th>artist_name</th>\n",
       "      <th>year</th>\n",
       "      <th>user_id</th>\n",
       "      <th>play_count</th>\n",
       "    </tr>\n",
       "  </thead>\n",
       "  <tbody>\n",
       "    <tr>\n",
       "      <th>0</th>\n",
       "      <td>SOSZNRJ12A8AE46E38</td>\n",
       "      <td>Anyone Else But You</td>\n",
       "      <td>Juno - Music From The Motion Picture</td>\n",
       "      <td>Michael Cera &amp; Ellen Page</td>\n",
       "      <td>2007</td>\n",
       "      <td>d6589314c0a9bcbca4fee0c93b14bc402363afea</td>\n",
       "      <td>6</td>\n",
       "    </tr>\n",
       "    <tr>\n",
       "      <th>2</th>\n",
       "      <td>SOSZNRJ12A8AE46E38</td>\n",
       "      <td>Anyone Else But You</td>\n",
       "      <td>Juno - Music From The Motion Picture</td>\n",
       "      <td>Michael Cera &amp; Ellen Page</td>\n",
       "      <td>2007</td>\n",
       "      <td>3f9ed694a79835c921ef6d94acd28f876c1d901e</td>\n",
       "      <td>4</td>\n",
       "    </tr>\n",
       "    <tr>\n",
       "      <th>10</th>\n",
       "      <td>SOSZNRJ12A8AE46E38</td>\n",
       "      <td>Anyone Else But You</td>\n",
       "      <td>Juno - Music From The Motion Picture</td>\n",
       "      <td>Michael Cera &amp; Ellen Page</td>\n",
       "      <td>2007</td>\n",
       "      <td>88635e641f8761318e318a9d799a6ba3f03a0580</td>\n",
       "      <td>8</td>\n",
       "    </tr>\n",
       "    <tr>\n",
       "      <th>11</th>\n",
       "      <td>SOSZNRJ12A8AE46E38</td>\n",
       "      <td>Anyone Else But You</td>\n",
       "      <td>Juno - Music From The Motion Picture</td>\n",
       "      <td>Michael Cera &amp; Ellen Page</td>\n",
       "      <td>2007</td>\n",
       "      <td>a7f18f3c9ff442c49369628eed6575bb076854cb</td>\n",
       "      <td>4</td>\n",
       "    </tr>\n",
       "    <tr>\n",
       "      <th>12</th>\n",
       "      <td>SOSZNRJ12A8AE46E38</td>\n",
       "      <td>Anyone Else But You</td>\n",
       "      <td>Juno - Music From The Motion Picture</td>\n",
       "      <td>Michael Cera &amp; Ellen Page</td>\n",
       "      <td>2007</td>\n",
       "      <td>a9af7c6186ea3053a00bbc76c886f94bc5ff524e</td>\n",
       "      <td>7</td>\n",
       "    </tr>\n",
       "    <tr>\n",
       "      <th>...</th>\n",
       "      <td>...</td>\n",
       "      <td>...</td>\n",
       "      <td>...</td>\n",
       "      <td>...</td>\n",
       "      <td>...</td>\n",
       "      <td>...</td>\n",
       "      <td>...</td>\n",
       "    </tr>\n",
       "    <tr>\n",
       "      <th>2086838</th>\n",
       "      <td>SOKATLY12A8C132FE2</td>\n",
       "      <td>FU-GEE-LA</td>\n",
       "      <td>The Score</td>\n",
       "      <td>Fugees</td>\n",
       "      <td>1996</td>\n",
       "      <td>cf74ed958dad8d8da7295b5e8a746f53748a2a7d</td>\n",
       "      <td>5</td>\n",
       "    </tr>\n",
       "    <tr>\n",
       "      <th>2086841</th>\n",
       "      <td>SOKATLY12A8C132FE2</td>\n",
       "      <td>FU-GEE-LA</td>\n",
       "      <td>The Score</td>\n",
       "      <td>Fugees</td>\n",
       "      <td>1996</td>\n",
       "      <td>ce8f4d7d26ab3014750755a27515672dd3ac0f9c</td>\n",
       "      <td>19</td>\n",
       "    </tr>\n",
       "    <tr>\n",
       "      <th>2086875</th>\n",
       "      <td>SOBPQCK12AF72A2FD5</td>\n",
       "      <td>The Outer Banks</td>\n",
       "      <td>In A Safe Place</td>\n",
       "      <td>The Album Leaf</td>\n",
       "      <td>2004</td>\n",
       "      <td>f16aa219244fa6b115e8062a45c2de3de3fc87e7</td>\n",
       "      <td>4</td>\n",
       "    </tr>\n",
       "    <tr>\n",
       "      <th>2086879</th>\n",
       "      <td>SOBPQCK12AF72A2FD5</td>\n",
       "      <td>The Outer Banks</td>\n",
       "      <td>In A Safe Place</td>\n",
       "      <td>The Album Leaf</td>\n",
       "      <td>2004</td>\n",
       "      <td>46c309056e4a2a7aa09c50cd32071fc356ca7a3b</td>\n",
       "      <td>7</td>\n",
       "    </tr>\n",
       "    <tr>\n",
       "      <th>2086907</th>\n",
       "      <td>SOBPQCK12AF72A2FD5</td>\n",
       "      <td>The Outer Banks</td>\n",
       "      <td>In A Safe Place</td>\n",
       "      <td>The Album Leaf</td>\n",
       "      <td>2004</td>\n",
       "      <td>62420a39df3ad96792e711b25e43f0b4f534cb35</td>\n",
       "      <td>4</td>\n",
       "    </tr>\n",
       "  </tbody>\n",
       "</table>\n",
       "<p>421170 rows × 7 columns</p>\n",
       "</div>"
      ],
      "text/plain": [
       "                    song_id                title  \\\n",
       "0        SOSZNRJ12A8AE46E38  Anyone Else But You   \n",
       "2        SOSZNRJ12A8AE46E38  Anyone Else But You   \n",
       "10       SOSZNRJ12A8AE46E38  Anyone Else But You   \n",
       "11       SOSZNRJ12A8AE46E38  Anyone Else But You   \n",
       "12       SOSZNRJ12A8AE46E38  Anyone Else But You   \n",
       "...                     ...                  ...   \n",
       "2086838  SOKATLY12A8C132FE2            FU-GEE-LA   \n",
       "2086841  SOKATLY12A8C132FE2            FU-GEE-LA   \n",
       "2086875  SOBPQCK12AF72A2FD5      The Outer Banks   \n",
       "2086879  SOBPQCK12AF72A2FD5      The Outer Banks   \n",
       "2086907  SOBPQCK12AF72A2FD5      The Outer Banks   \n",
       "\n",
       "                                      release                artist_name  \\\n",
       "0        Juno - Music From The Motion Picture  Michael Cera & Ellen Page   \n",
       "2        Juno - Music From The Motion Picture  Michael Cera & Ellen Page   \n",
       "10       Juno - Music From The Motion Picture  Michael Cera & Ellen Page   \n",
       "11       Juno - Music From The Motion Picture  Michael Cera & Ellen Page   \n",
       "12       Juno - Music From The Motion Picture  Michael Cera & Ellen Page   \n",
       "...                                       ...                        ...   \n",
       "2086838                             The Score                     Fugees   \n",
       "2086841                             The Score                     Fugees   \n",
       "2086875                       In A Safe Place             The Album Leaf   \n",
       "2086879                       In A Safe Place             The Album Leaf   \n",
       "2086907                       In A Safe Place             The Album Leaf   \n",
       "\n",
       "         year                                   user_id  play_count  \n",
       "0        2007  d6589314c0a9bcbca4fee0c93b14bc402363afea           6  \n",
       "2        2007  3f9ed694a79835c921ef6d94acd28f876c1d901e           4  \n",
       "10       2007  88635e641f8761318e318a9d799a6ba3f03a0580           8  \n",
       "11       2007  a7f18f3c9ff442c49369628eed6575bb076854cb           4  \n",
       "12       2007  a9af7c6186ea3053a00bbc76c886f94bc5ff524e           7  \n",
       "...       ...                                       ...         ...  \n",
       "2086838  1996  cf74ed958dad8d8da7295b5e8a746f53748a2a7d           5  \n",
       "2086841  1996  ce8f4d7d26ab3014750755a27515672dd3ac0f9c          19  \n",
       "2086875  2004  f16aa219244fa6b115e8062a45c2de3de3fc87e7           4  \n",
       "2086879  2004  46c309056e4a2a7aa09c50cd32071fc356ca7a3b           7  \n",
       "2086907  2004  62420a39df3ad96792e711b25e43f0b4f534cb35           4  \n",
       "\n",
       "[421170 rows x 7 columns]"
      ]
     },
     "execution_count": 118,
     "metadata": {},
     "output_type": "execute_result"
    }
   ],
   "source": [
    "df = df[df['play_count'] > 3]\n",
    "df"
   ]
  },
  {
   "cell_type": "code",
   "execution_count": 119,
   "metadata": {},
   "outputs": [
    {
     "data": {
      "text/plain": [
       "(421170, 7)"
      ]
     },
     "execution_count": 119,
     "metadata": {},
     "output_type": "execute_result"
    }
   ],
   "source": [
    "df.shape"
   ]
  },
  {
   "cell_type": "code",
   "execution_count": 127,
   "metadata": {},
   "outputs": [
    {
     "data": {
      "text/plain": [
       "2213"
      ]
     },
     "execution_count": 127,
     "metadata": {},
     "output_type": "execute_result"
    }
   ],
   "source": [
    "df.play_count.max()"
   ]
  },
  {
   "cell_type": "markdown",
   "metadata": {},
   "source": [
    "## Proposed Approaches\n",
    "\n",
    "### Popularity based model(not shown)\n",
    "For this approach, we will just utilize the play count as ratings and simply recommend the most played songs\n",
    "\n",
    "### Nearest Neighbor\n",
    "This approach is more involved and directly applies to the problem statement mentioned previously. This approach measures the similarity between users and items which in this case are songs. For the item -based model, there is an assumption that song similarity can be clustered and associated with users who also share a set of similarities. Therefore, similiar users, based on features can be recommended similiar songs, also based on features.\n",
    "\n",
    "### Single Value Decomposition (SVD)\n",
    "Because features can grow tremendously and complicate already complex algorithms, we utilize SVD which can be employed to reduce the number of deatures of a dataset. However, this dataset presents a manageable amount of features. \n",
    "\n",
    "### Transforming the dataset\n",
    "As mentioned above, this dataset does not contain explocit ratings so we will attempt to utilize the number of times played as a proxy for rating. We have already filtered out plays of less than 3 and we believe that plays of less than 3 do not represent a strong enough track-record(excuse the pun) for potential recommendation. \n",
    "\n",
    "Above we have calculated that the maximum play count is 2213, we will adjust this on a scale of 0 - 5 and assign the ratings accordinly."
   ]
  },
  {
   "cell_type": "markdown",
   "metadata": {},
   "source": [
    "## Create Training and Test Sets\n",
    "\n"
   ]
  },
  {
   "cell_type": "code",
   "execution_count": 38,
   "metadata": {},
   "outputs": [],
   "source": [
    "cols = ['song_id', 'user_id', 'play_count']"
   ]
  },
  {
   "cell_type": "markdown",
   "metadata": {},
   "source": [
    "## Create surprise dataset"
   ]
  },
  {
   "cell_type": "code",
   "execution_count": 130,
   "metadata": {},
   "outputs": [],
   "source": [
    "reader = Reader(rating_scale = (3,2213))\n",
    "data = Dataset.load_from_df(df[cols], reader)"
   ]
  },
  {
   "cell_type": "markdown",
   "metadata": {},
   "source": [
    "## Create Train-set and Prediction-set"
   ]
  },
  {
   "cell_type": "code",
   "execution_count": null,
   "metadata": {},
   "outputs": [],
   "source": [
    "trainset = data.build_full_trainset()\n",
    "antiset = trainset.build_anti_testset()"
   ]
  },
  {
   "cell_type": "markdown",
   "metadata": {},
   "source": [
    "## Creating and training the model"
   ]
  },
  {
   "cell_type": "markdown",
   "metadata": {},
   "source": [
    "#### We will use SVD here( SIngular Value Decomposition)\n",
    "#### Interaction Matrix = AXBXC"
   ]
  },
  {
   "cell_type": "code",
   "execution_count": 138,
   "metadata": {},
   "outputs": [],
   "source": [
    "algo = SVD(n_epochs = 25, verbose = True)"
   ]
  },
  {
   "cell_type": "markdown",
   "metadata": {},
   "source": [
    "### Training the model\n",
    "**Mean Absolute Error (MAE)**: MAE measures the average magnitude of the errors in a set of predictions, without considering their direction. \n",
    "\n",
    "**Root mean squared error (RMSE)**:  RMSE is the square root of the average of squared differences between prediction and actual observation."
   ]
  },
  {
   "cell_type": "code",
   "execution_count": 150,
   "metadata": {},
   "outputs": [
    {
     "ename": "ValueError",
     "evalue": "Incorrect value for n_splits=0. Must be >=2 and less than the number of ratings",
     "output_type": "error",
     "traceback": [
      "\u001b[1;31m---------------------------------------------------------------------------\u001b[0m",
      "\u001b[1;31mEmpty\u001b[0m                                     Traceback (most recent call last)",
      "\u001b[1;32m~\\anaconda3\\lib\\site-packages\\joblib\\parallel.py\u001b[0m in \u001b[0;36mdispatch_one_batch\u001b[1;34m(self, iterator)\u001b[0m\n\u001b[0;32m    796\u001b[0m             \u001b[1;32mtry\u001b[0m\u001b[1;33m:\u001b[0m\u001b[1;33m\u001b[0m\u001b[1;33m\u001b[0m\u001b[0m\n\u001b[1;32m--> 797\u001b[1;33m                 \u001b[0mtasks\u001b[0m \u001b[1;33m=\u001b[0m \u001b[0mself\u001b[0m\u001b[1;33m.\u001b[0m\u001b[0m_ready_batches\u001b[0m\u001b[1;33m.\u001b[0m\u001b[0mget\u001b[0m\u001b[1;33m(\u001b[0m\u001b[0mblock\u001b[0m\u001b[1;33m=\u001b[0m\u001b[1;32mFalse\u001b[0m\u001b[1;33m)\u001b[0m\u001b[1;33m\u001b[0m\u001b[1;33m\u001b[0m\u001b[0m\n\u001b[0m\u001b[0;32m    798\u001b[0m             \u001b[1;32mexcept\u001b[0m \u001b[0mqueue\u001b[0m\u001b[1;33m.\u001b[0m\u001b[0mEmpty\u001b[0m\u001b[1;33m:\u001b[0m\u001b[1;33m\u001b[0m\u001b[1;33m\u001b[0m\u001b[0m\n",
      "\u001b[1;32m~\\anaconda3\\lib\\queue.py\u001b[0m in \u001b[0;36mget\u001b[1;34m(self, block, timeout)\u001b[0m\n\u001b[0;32m    166\u001b[0m                 \u001b[1;32mif\u001b[0m \u001b[1;32mnot\u001b[0m \u001b[0mself\u001b[0m\u001b[1;33m.\u001b[0m\u001b[0m_qsize\u001b[0m\u001b[1;33m(\u001b[0m\u001b[1;33m)\u001b[0m\u001b[1;33m:\u001b[0m\u001b[1;33m\u001b[0m\u001b[1;33m\u001b[0m\u001b[0m\n\u001b[1;32m--> 167\u001b[1;33m                     \u001b[1;32mraise\u001b[0m \u001b[0mEmpty\u001b[0m\u001b[1;33m\u001b[0m\u001b[1;33m\u001b[0m\u001b[0m\n\u001b[0m\u001b[0;32m    168\u001b[0m             \u001b[1;32melif\u001b[0m \u001b[0mtimeout\u001b[0m \u001b[1;32mis\u001b[0m \u001b[1;32mNone\u001b[0m\u001b[1;33m:\u001b[0m\u001b[1;33m\u001b[0m\u001b[1;33m\u001b[0m\u001b[0m\n",
      "\u001b[1;31mEmpty\u001b[0m: ",
      "\nDuring handling of the above exception, another exception occurred:\n",
      "\u001b[1;31mValueError\u001b[0m                                Traceback (most recent call last)",
      "\u001b[1;32m<ipython-input-150-20b2c31faa0e>\u001b[0m in \u001b[0;36m<module>\u001b[1;34m\u001b[0m\n\u001b[1;32m----> 1\u001b[1;33m \u001b[0mcross_validate\u001b[0m\u001b[1;33m(\u001b[0m\u001b[0malgo\u001b[0m\u001b[1;33m,\u001b[0m \u001b[0mdata\u001b[0m\u001b[1;33m,\u001b[0m \u001b[0mmeasures\u001b[0m \u001b[1;33m=\u001b[0m \u001b[1;33m[\u001b[0m\u001b[1;34m'RSME'\u001b[0m\u001b[1;33m,\u001b[0m \u001b[1;34m'MAE'\u001b[0m\u001b[1;33m]\u001b[0m\u001b[1;33m,\u001b[0m \u001b[0mcv\u001b[0m\u001b[1;33m=\u001b[0m\u001b[1;36m5\u001b[0m\u001b[1;33m,\u001b[0m \u001b[0mn_jobs\u001b[0m \u001b[1;33m=\u001b[0m \u001b[1;36m5\u001b[0m\u001b[1;33m,\u001b[0m \u001b[0mverbose\u001b[0m \u001b[1;33m=\u001b[0m \u001b[1;32mTrue\u001b[0m\u001b[1;33m)\u001b[0m\u001b[1;33m\u001b[0m\u001b[1;33m\u001b[0m\u001b[0m\n\u001b[0m",
      "\u001b[1;32m~\\anaconda3\\lib\\site-packages\\surprise\\model_selection\\validation.py\u001b[0m in \u001b[0;36mcross_validate\u001b[1;34m(algo, data, measures, cv, return_train_measures, n_jobs, pre_dispatch, verbose)\u001b[0m\n\u001b[0;32m    101\u001b[0m                                            return_train_measures)\n\u001b[0;32m    102\u001b[0m                     for (trainset, testset) in cv.split(data))\n\u001b[1;32m--> 103\u001b[1;33m     \u001b[0mout\u001b[0m \u001b[1;33m=\u001b[0m \u001b[0mParallel\u001b[0m\u001b[1;33m(\u001b[0m\u001b[0mn_jobs\u001b[0m\u001b[1;33m=\u001b[0m\u001b[0mn_jobs\u001b[0m\u001b[1;33m,\u001b[0m \u001b[0mpre_dispatch\u001b[0m\u001b[1;33m=\u001b[0m\u001b[0mpre_dispatch\u001b[0m\u001b[1;33m)\u001b[0m\u001b[1;33m(\u001b[0m\u001b[0mdelayed_list\u001b[0m\u001b[1;33m)\u001b[0m\u001b[1;33m\u001b[0m\u001b[1;33m\u001b[0m\u001b[0m\n\u001b[0m\u001b[0;32m    104\u001b[0m \u001b[1;33m\u001b[0m\u001b[0m\n\u001b[0;32m    105\u001b[0m     (test_measures_dicts,\n",
      "\u001b[1;32m~\\anaconda3\\lib\\site-packages\\joblib\\parallel.py\u001b[0m in \u001b[0;36m__call__\u001b[1;34m(self, iterable)\u001b[0m\n\u001b[0;32m   1002\u001b[0m             \u001b[1;31m# remaining jobs.\u001b[0m\u001b[1;33m\u001b[0m\u001b[1;33m\u001b[0m\u001b[1;33m\u001b[0m\u001b[0m\n\u001b[0;32m   1003\u001b[0m             \u001b[0mself\u001b[0m\u001b[1;33m.\u001b[0m\u001b[0m_iterating\u001b[0m \u001b[1;33m=\u001b[0m \u001b[1;32mFalse\u001b[0m\u001b[1;33m\u001b[0m\u001b[1;33m\u001b[0m\u001b[0m\n\u001b[1;32m-> 1004\u001b[1;33m             \u001b[1;32mif\u001b[0m \u001b[0mself\u001b[0m\u001b[1;33m.\u001b[0m\u001b[0mdispatch_one_batch\u001b[0m\u001b[1;33m(\u001b[0m\u001b[0miterator\u001b[0m\u001b[1;33m)\u001b[0m\u001b[1;33m:\u001b[0m\u001b[1;33m\u001b[0m\u001b[1;33m\u001b[0m\u001b[0m\n\u001b[0m\u001b[0;32m   1005\u001b[0m                 \u001b[0mself\u001b[0m\u001b[1;33m.\u001b[0m\u001b[0m_iterating\u001b[0m \u001b[1;33m=\u001b[0m \u001b[0mself\u001b[0m\u001b[1;33m.\u001b[0m\u001b[0m_original_iterator\u001b[0m \u001b[1;32mis\u001b[0m \u001b[1;32mnot\u001b[0m \u001b[1;32mNone\u001b[0m\u001b[1;33m\u001b[0m\u001b[1;33m\u001b[0m\u001b[0m\n\u001b[0;32m   1006\u001b[0m \u001b[1;33m\u001b[0m\u001b[0m\n",
      "\u001b[1;32m~\\anaconda3\\lib\\site-packages\\joblib\\parallel.py\u001b[0m in \u001b[0;36mdispatch_one_batch\u001b[1;34m(self, iterator)\u001b[0m\n\u001b[0;32m    806\u001b[0m                 \u001b[0mbig_batch_size\u001b[0m \u001b[1;33m=\u001b[0m \u001b[0mbatch_size\u001b[0m \u001b[1;33m*\u001b[0m \u001b[0mn_jobs\u001b[0m\u001b[1;33m\u001b[0m\u001b[1;33m\u001b[0m\u001b[0m\n\u001b[0;32m    807\u001b[0m \u001b[1;33m\u001b[0m\u001b[0m\n\u001b[1;32m--> 808\u001b[1;33m                 \u001b[0mislice\u001b[0m \u001b[1;33m=\u001b[0m \u001b[0mlist\u001b[0m\u001b[1;33m(\u001b[0m\u001b[0mitertools\u001b[0m\u001b[1;33m.\u001b[0m\u001b[0mislice\u001b[0m\u001b[1;33m(\u001b[0m\u001b[0miterator\u001b[0m\u001b[1;33m,\u001b[0m \u001b[0mbig_batch_size\u001b[0m\u001b[1;33m)\u001b[0m\u001b[1;33m)\u001b[0m\u001b[1;33m\u001b[0m\u001b[1;33m\u001b[0m\u001b[0m\n\u001b[0m\u001b[0;32m    809\u001b[0m                 \u001b[1;32mif\u001b[0m \u001b[0mlen\u001b[0m\u001b[1;33m(\u001b[0m\u001b[0mislice\u001b[0m\u001b[1;33m)\u001b[0m \u001b[1;33m==\u001b[0m \u001b[1;36m0\u001b[0m\u001b[1;33m:\u001b[0m\u001b[1;33m\u001b[0m\u001b[1;33m\u001b[0m\u001b[0m\n\u001b[0;32m    810\u001b[0m                     \u001b[1;32mreturn\u001b[0m \u001b[1;32mFalse\u001b[0m\u001b[1;33m\u001b[0m\u001b[1;33m\u001b[0m\u001b[0m\n",
      "\u001b[1;32m~\\anaconda3\\lib\\site-packages\\surprise\\model_selection\\validation.py\u001b[0m in \u001b[0;36m<genexpr>\u001b[1;34m(.0)\u001b[0m\n\u001b[0;32m     98\u001b[0m     \u001b[0mcv\u001b[0m \u001b[1;33m=\u001b[0m \u001b[0mget_cv\u001b[0m\u001b[1;33m(\u001b[0m\u001b[0mcv\u001b[0m\u001b[1;33m)\u001b[0m\u001b[1;33m\u001b[0m\u001b[1;33m\u001b[0m\u001b[0m\n\u001b[0;32m     99\u001b[0m \u001b[1;33m\u001b[0m\u001b[0m\n\u001b[1;32m--> 100\u001b[1;33m     delayed_list = (delayed(fit_and_score)(algo, trainset, testset, measures,\n\u001b[0m\u001b[0;32m    101\u001b[0m                                            return_train_measures)\n\u001b[0;32m    102\u001b[0m                     for (trainset, testset) in cv.split(data))\n",
      "\u001b[1;32m~\\anaconda3\\lib\\site-packages\\surprise\\model_selection\\split.py\u001b[0m in \u001b[0;36msplit\u001b[1;34m(self, data)\u001b[0m\n\u001b[0;32m     96\u001b[0m             raise ValueError('Incorrect value for n_splits={0}. '\n\u001b[0;32m     97\u001b[0m                              \u001b[1;34m'Must be >=2 and less than the number '\u001b[0m\u001b[1;33m\u001b[0m\u001b[1;33m\u001b[0m\u001b[0m\n\u001b[1;32m---> 98\u001b[1;33m                              'of ratings'.format(len(data.raw_ratings)))\n\u001b[0m\u001b[0;32m     99\u001b[0m \u001b[1;33m\u001b[0m\u001b[0m\n\u001b[0;32m    100\u001b[0m         \u001b[1;31m# We use indices to avoid shuffling the original data.raw_ratings list.\u001b[0m\u001b[1;33m\u001b[0m\u001b[1;33m\u001b[0m\u001b[1;33m\u001b[0m\u001b[0m\n",
      "\u001b[1;31mValueError\u001b[0m: Incorrect value for n_splits=0. Must be >=2 and less than the number of ratings"
     ]
    }
   ],
   "source": [
    "cross_validate(algo, data, measures = ['RSME', 'MAE'], cv=5, n_jobs = 5, verbose = True)"
   ]
  },
  {
   "cell_type": "code",
   "execution_count": null,
   "metadata": {},
   "outputs": [],
   "source": []
  }
 ],
 "metadata": {
  "kernelspec": {
   "display_name": "Python 3",
   "language": "python",
   "name": "python3"
  },
  "language_info": {
   "codemirror_mode": {
    "name": "ipython",
    "version": 3
   },
   "file_extension": ".py",
   "mimetype": "text/x-python",
   "name": "python",
   "nbconvert_exporter": "python",
   "pygments_lexer": "ipython3",
   "version": "3.7.6"
  }
 },
 "nbformat": 4,
 "nbformat_minor": 4
}
